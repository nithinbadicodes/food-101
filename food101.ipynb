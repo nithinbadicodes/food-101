{
 "cells": [
  {
   "cell_type": "code",
   "id": "af9de38d",
   "metadata": {
    "ExecuteTime": {
     "end_time": "2025-07-22T07:40:31.442943Z",
     "start_time": "2025-07-22T07:40:31.377392Z"
    }
   },
   "source": [
    "import numpy as np\n",
    "import pandas as pd\n",
    "import matplotlib.pyplot as plt\n",
    "import seaborn as sns\n",
    "\n",
    "%matplotlib inline"
   ],
   "outputs": [],
   "execution_count": 2
  },
  {
   "cell_type": "code",
   "id": "e9a5bc09",
   "metadata": {
    "ExecuteTime": {
     "end_time": "2025-07-22T07:42:26.574303Z",
     "start_time": "2025-07-22T07:41:23.885463Z"
    }
   },
   "source": [
    "import tensorflow as tf"
   ],
   "outputs": [],
   "execution_count": 3
  },
  {
   "cell_type": "code",
   "id": "6ba3c69c",
   "metadata": {
    "ExecuteTime": {
     "end_time": "2025-07-22T07:42:49.142480Z",
     "start_time": "2025-07-22T07:42:49.134111Z"
    }
   },
   "source": [
    "print(tf.__version__)"
   ],
   "outputs": [
    {
     "name": "stdout",
     "output_type": "stream",
     "text": [
      "2.19.0\n"
     ]
    }
   ],
   "execution_count": 4
  },
  {
   "cell_type": "code",
   "id": "db62626e",
   "metadata": {
    "ExecuteTime": {
     "end_time": "2025-07-22T07:44:33.053378Z",
     "start_time": "2025-07-22T07:44:32.567762Z"
    }
   },
   "source": "tf.range(0,10)",
   "outputs": [
    {
     "data": {
      "text/plain": [
       "<tf.Tensor: shape=(10,), dtype=int32, numpy=array([0, 1, 2, 3, 4, 5, 6, 7, 8, 9], dtype=int32)>"
      ]
     },
     "execution_count": 6,
     "metadata": {},
     "output_type": "execute_result"
    }
   ],
   "execution_count": 6
  },
  {
   "metadata": {},
   "cell_type": "code",
   "outputs": [],
   "execution_count": null,
   "source": "",
   "id": "eef664f48d0395d"
  }
 ],
 "metadata": {
  "kernelspec": {
   "display_name": ".venv",
   "language": "python",
   "name": "python3"
  },
  "language_info": {
   "codemirror_mode": {
    "name": "ipython",
    "version": 3
   },
   "file_extension": ".py",
   "mimetype": "text/x-python",
   "name": "python",
   "nbconvert_exporter": "python",
   "pygments_lexer": "ipython3",
   "version": "3.12.0"
  }
 },
 "nbformat": 4,
 "nbformat_minor": 5
}
